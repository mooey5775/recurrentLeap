{
 "cells": [
  {
   "cell_type": "code",
   "execution_count": 1,
   "metadata": {},
   "outputs": [],
   "source": [
    "from scipy.io import loadmat\n",
    "import os\n",
    "import numpy as np\n",
    "from tqdm import tqdm_notebook as tqdm\n",
    "import shutil\n",
    "\n",
    "import pickle"
   ]
  },
  {
   "cell_type": "code",
   "execution_count": 2,
   "metadata": {},
   "outputs": [
    {
     "data": {
      "text/plain": [
       "['trainExplore.ipynb',\n",
       " 'recurrentLeap.ipynb',\n",
       " 'recurrenttest.ipynb',\n",
       " 'recurrent',\n",
       " '.ipynb_checkpoints',\n",
       " 'matFormat.png']"
      ]
     },
     "execution_count": 2,
     "metadata": {},
     "output_type": "execute_result"
    }
   ],
   "source": [
    "os.listdir()"
   ]
  },
  {
   "cell_type": "code",
   "execution_count": 4,
   "metadata": {},
   "outputs": [],
   "source": [
    "mat = loadmat('recurrent/trainingDataDLC.mat')"
   ]
  },
  {
   "cell_type": "code",
   "execution_count": 43,
   "metadata": {},
   "outputs": [],
   "source": [
    "fields = ['session', 'frameNum', 'includeFrame', 'paw1LH_top', 'paw2LF_top', 'paw3RF_top', 'paw4RH_top', 'tailBase_top', 'tailMid_top', 'nose_top', 'obs_top']\n",
    "depth = [1, 2, 2, 1, 1, 1, 1, 1, 1, 1, 1]"
   ]
  },
  {
   "cell_type": "code",
   "execution_count": 53,
   "metadata": {},
   "outputs": [],
   "source": [
    "frameInfo = []"
   ]
  },
  {
   "cell_type": "code",
   "execution_count": 54,
   "metadata": {},
   "outputs": [],
   "source": [
    "for k, frame in enumerate(mat['trainingData']):\n",
    "    frameInfo.append({})\n",
    "    for i, field in enumerate(fields):\n",
    "        data = frame[0][i]\n",
    "        for j in range(depth[i]):\n",
    "            data = data[0]\n",
    "        frameInfo[k][field] = data"
   ]
  },
  {
   "cell_type": "code",
   "execution_count": 57,
   "metadata": {},
   "outputs": [],
   "source": [
    "with open('recurrent/trainingData.pickle', 'wb') as f:\n",
    "    pickle.dump(frameInfo, f)"
   ]
  },
  {
   "cell_type": "code",
   "execution_count": 65,
   "metadata": {},
   "outputs": [
    {
     "data": {
      "text/plain": [
       "{'frameNum': 23761,\n",
       " 'includeFrame': 1,\n",
       " 'nose_top': array([ 390.75,   24.25]),\n",
       " 'obs_top': array([ 59.75,  71.25]),\n",
       " 'paw1LH_top': array([ 77.25,  36.25]),\n",
       " 'paw2LF_top': array([ 253.5       ,  101.90039254]),\n",
       " 'paw3RF_top': array([ 198.75,   97.75]),\n",
       " 'paw4RH_top': array([ 182.25,   63.75]),\n",
       " 'session': '180605_000',\n",
       " 'tailBase_top': array([ nan,  nan]),\n",
       " 'tailMid_top': array([ nan,  nan])}"
      ]
     },
     "execution_count": 65,
     "metadata": {},
     "output_type": "execute_result"
    }
   ],
   "source": [
    "frameInfo[0]"
   ]
  },
  {
   "cell_type": "code",
   "execution_count": 50,
   "metadata": {},
   "outputs": [
    {
     "data": {
      "application/vnd.jupyter.widget-view+json": {
       "model_id": "1f1f85de0cf54ac4aa278da9e452aad1",
       "version_major": 2,
       "version_minor": 0
      },
      "text/plain": [
       "HBox(children=(IntProgress(value=0, max=22), HTML(value='')))"
      ]
     },
     "metadata": {},
     "output_type": "display_data"
    },
    {
     "name": "stdout",
     "output_type": "stream",
     "text": [
      "180623_003\n",
      "180623_001\n",
      "180623_004\n",
      "180618_010\n",
      "180607_004\n",
      "180605_001\n",
      "180613_001\n",
      "180609_000\n",
      "180613_000\n",
      "180623_006\n",
      "180609_005\n",
      "180605_000\n",
      "180609_002\n",
      "180623_000\n",
      "180623_002\n",
      "180609_001\n",
      "180613_002\n",
      "180623_005\n",
      "180609_003\n",
      "180609_004\n",
      "180605_002\n",
      "180619_009\n"
     ]
    }
   ],
   "source": [
    "sessionDir = '/run/user/1000/gvfs/smb-share:server=locker-smb.engram.rc.zi.columbia.edu,share=sawtell_loco-locker,user=adcu%5Cel2983/obstacleData/sessions'\n",
    "saveDir = '/media/edwardli/Parsec/recurrent/sessions'\n",
    "\n",
    "for session in tqdm(a):\n",
    "    print(session)\n",
    "    if not os.path.exists(os.path.join(saveDir, session)):\n",
    "        os.makedirs(os.path.join(saveDir, session))\n",
    "    if not os.path.exists(os.path.join(saveDir, session, 'runBot.mp4')):\n",
    "        shutil.copyfile(os.path.join(sessionDir, session, 'runBot.mp4'), os.path.join(saveDir, session, 'runBot.mp4'))\n",
    "    if not os.path.exists(os.path.join(saveDir, session, 'runTop.mp4')):\n",
    "        shutil.copyfile(os.path.join(sessionDir, session, 'runTop.mp4'), os.path.join(saveDir, session, 'runTop.mp4'))"
   ]
  },
  {
   "cell_type": "code",
   "execution_count": 4,
   "metadata": {},
   "outputs": [],
   "source": [
    "mat = loadmat('recurrent/trainingDataDLC.mat')"
   ]
  },
  {
   "cell_type": "code",
   "execution_count": 27,
   "metadata": {},
   "outputs": [
    {
     "data": {
      "text/plain": [
       "True"
      ]
     },
     "execution_count": 27,
     "metadata": {},
     "output_type": "execute_result"
    }
   ],
   "source": [
    "np.isnan(mat['trainingData'][0][0][7][0][0])"
   ]
  },
  {
   "cell_type": "code",
   "execution_count": 29,
   "metadata": {},
   "outputs": [],
   "source": [
    "# Pickle with this https://pythonprogramming.net/python-pickle-module-save-objects-serialization/"
   ]
  },
  {
   "cell_type": "code",
   "execution_count": null,
   "metadata": {},
   "outputs": [],
   "source": []
  }
 ],
 "metadata": {
  "kernelspec": {
   "display_name": "Python 3",
   "language": "python",
   "name": "python3"
  },
  "language_info": {
   "codemirror_mode": {
    "name": "ipython",
    "version": 3
   },
   "file_extension": ".py",
   "mimetype": "text/x-python",
   "name": "python",
   "nbconvert_exporter": "python",
   "pygments_lexer": "ipython3",
   "version": "3.5.2"
  }
 },
 "nbformat": 4,
 "nbformat_minor": 2
}
