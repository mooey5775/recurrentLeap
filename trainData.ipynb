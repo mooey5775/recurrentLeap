{
 "cells": [
  {
   "cell_type": "code",
   "execution_count": 8,
   "metadata": {},
   "outputs": [],
   "source": [
    "import os\n",
    "import pandas\n",
    "import pickle\n",
    "import random\n",
    "\n",
    "from tqdm import tqdm"
   ]
  },
  {
   "cell_type": "code",
   "execution_count": 16,
   "metadata": {},
   "outputs": [],
   "source": [
    "trainFile = 'recurrent/train.pickle'\n",
    "testFile = 'recurrent/test.pickle'\n",
    "\n",
    "validation_split = 0.2\n",
    "samples_per_session = 250\n",
    "\n",
    "framenumName = 'Unnamed: 0'\n",
    "features = ['paw1LH_top', 'paw2LF_top', 'paw3RF_top', 'paw4RH_top', 'tailBase_top', 'tailMid_top']"
   ]
  },
  {
   "cell_type": "code",
   "execution_count": 17,
   "metadata": {},
   "outputs": [],
   "source": [
    "cols = list(range(19))"
   ]
  },
  {
   "cell_type": "code",
   "execution_count": 20,
   "metadata": {},
   "outputs": [
    {
     "name": "stderr",
     "output_type": "stream",
     "text": [
      "\n",
      "\n",
      "  0%|          | 0/17 [00:00<?, ?it/s]\u001b[A\u001b[A\n",
      "\n",
      " 12%|█▏        | 2/17 [00:07<00:53,  3.57s/it]\u001b[A\u001b[A\n",
      "\n",
      " 18%|█▊        | 3/17 [00:12<00:59,  4.28s/it]\u001b[A\u001b[A\n",
      "\n",
      " 24%|██▎       | 4/17 [00:18<01:01,  4.72s/it]\u001b[A\u001b[A\n",
      "\n",
      " 29%|██▉       | 5/17 [00:26<01:03,  5.27s/it]\u001b[A\u001b[A\n",
      "\n",
      " 35%|███▌      | 6/17 [00:33<01:00,  5.51s/it]\u001b[A\u001b[A\n",
      "\n",
      " 41%|████      | 7/17 [00:39<00:55,  5.58s/it]\u001b[A\u001b[A\n",
      "\n",
      " 47%|████▋     | 8/17 [00:43<00:48,  5.43s/it]\u001b[A\u001b[A\n",
      "\n",
      " 53%|█████▎    | 9/17 [00:48<00:43,  5.39s/it]\u001b[A\u001b[A\n",
      "\n",
      " 59%|█████▉    | 10/17 [00:53<00:37,  5.32s/it]\u001b[A\u001b[A\n",
      "\n",
      " 65%|██████▍   | 11/17 [01:03<00:34,  5.80s/it]\u001b[A\u001b[A\n",
      "\n",
      " 71%|███████   | 12/17 [01:09<00:28,  5.78s/it]\u001b[A\u001b[A\n",
      "\n",
      " 76%|███████▋  | 13/17 [01:14<00:22,  5.70s/it]\u001b[A\u001b[A\n",
      "\n",
      " 82%|████████▏ | 14/17 [01:18<00:16,  5.60s/it]\u001b[A\u001b[A\n",
      "\n",
      " 88%|████████▊ | 15/17 [01:22<00:11,  5.50s/it]\u001b[A\u001b[A\n",
      "\n",
      " 94%|█████████▍| 16/17 [01:26<00:05,  5.43s/it]\u001b[A\u001b[A\n",
      "\n",
      "100%|██████████| 17/17 [01:31<00:00,  5.36s/it]\u001b[A\u001b[A\n",
      "\n",
      "\u001b[A\u001b[A"
     ]
    }
   ],
   "source": [
    "train = {}\n",
    "test = {}\n",
    "\n",
    "for session in tqdm(os.listdir('recurrent/sessions')):\n",
    "    if session[0] == '.':\n",
    "        continue\n",
    "    train[session] = []\n",
    "    test[session] = []\n",
    "    tmp = pandas.read_csv(os.path.join('recurrent', 'sessions', session, 'trackedFeaturesRaw.csv'), usecols=cols)\n",
    "    tmp = tmp.to_dict('records')\n",
    "    samples = random.sample(tmp, len(tmp))\n",
    "    i = -1\n",
    "    while len(test[session]) < int(validation_split*samples_per_session):\n",
    "        i += 1\n",
    "        if any(samples[i][feature+'.2'] < 0.99 for feature in features):\n",
    "            continue\n",
    "        test[session].append({**{'frameNum': int(samples[i][framenumName])}, **{feature: (samples[i][feature], samples[i][feature+'.1']) for feature in features}})\n",
    "    while len(train[session]) < int((1-validation_split)*samples_per_session):\n",
    "        i += 1\n",
    "        if any(samples[i][feature+'.2'] < 0.99 for feature in features):\n",
    "            continue\n",
    "        train[session].append({**{'frameNum': int(samples[i][framenumName])}, **{feature: (samples[i][feature], samples[i][feature+'.1']) for feature in features}})\n",
    "                "
   ]
  },
  {
   "cell_type": "code",
   "execution_count": 23,
   "metadata": {},
   "outputs": [],
   "source": [
    "for session in test:\n",
    "    for frame in test[session]:\n",
    "        frame['frameNum'] = int(frame['frameNum'])\n",
    "\n",
    "for session in train:\n",
    "    for frame in train[session]:\n",
    "        frame['frameNum'] = int(frame['frameNum'])"
   ]
  },
  {
   "cell_type": "code",
   "execution_count": 26,
   "metadata": {},
   "outputs": [],
   "source": [
    "with open(trainFile, 'wb') as f:\n",
    "    pickle.dump(train, f)\n",
    "\n",
    "with open(testFile, 'wb') as f:\n",
    "    pickle.dump(test, f)"
   ]
  },
  {
   "cell_type": "code",
   "execution_count": null,
   "metadata": {},
   "outputs": [],
   "source": []
  }
 ],
 "metadata": {
  "kernelspec": {
   "display_name": "Python 3",
   "language": "python",
   "name": "python3"
  },
  "language_info": {
   "codemirror_mode": {
    "name": "ipython",
    "version": 3
   },
   "file_extension": ".py",
   "mimetype": "text/x-python",
   "name": "python",
   "nbconvert_exporter": "python",
   "pygments_lexer": "ipython3",
   "version": "3.5.2"
  }
 },
 "nbformat": 4,
 "nbformat_minor": 2
}
