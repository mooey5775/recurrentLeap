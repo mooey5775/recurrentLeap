{
 "cells": [
  {
   "cell_type": "code",
   "execution_count": 3,
   "metadata": {},
   "outputs": [],
   "source": [
    "from scipy.io import loadmat\n",
    "import os\n",
    "import numpy as np\n",
    "from tqdm import tqdm_notebook as tqdm\n",
    "import shutil\n",
    "\n",
    "import pickle"
   ]
  },
  {
   "cell_type": "code",
   "execution_count": 3,
   "metadata": {},
   "outputs": [
    {
     "data": {
      "text/plain": [
       "['trainExplore.ipynb',\n",
       " 'recurrenttest.ipynb',\n",
       " '.ipynb_checkpoints',\n",
       " 'trainingData.mat']"
      ]
     },
     "execution_count": 3,
     "metadata": {},
     "output_type": "execute_result"
    }
   ],
   "source": [
    "os.listdir()"
   ]
  },
  {
   "cell_type": "code",
   "execution_count": 5,
   "metadata": {},
   "outputs": [],
   "source": [
    "mat = loadmat('trainingData.mat')"
   ]
  },
  {
   "cell_type": "code",
   "execution_count": 42,
   "metadata": {},
   "outputs": [
    {
     "data": {
      "text/plain": [
       "{'180605_000',\n",
       " '180605_001',\n",
       " '180605_002',\n",
       " '180607_004',\n",
       " '180609_000',\n",
       " '180609_001',\n",
       " '180609_002',\n",
       " '180609_003',\n",
       " '180609_004',\n",
       " '180609_005',\n",
       " '180613_000',\n",
       " '180613_001',\n",
       " '180613_002',\n",
       " '180618_010',\n",
       " '180619_009',\n",
       " '180623_000',\n",
       " '180623_001',\n",
       " '180623_002',\n",
       " '180623_003',\n",
       " '180623_004',\n",
       " '180623_005',\n",
       " '180623_006'}"
      ]
     },
     "execution_count": 42,
     "metadata": {},
     "output_type": "execute_result"
    }
   ],
   "source": [
    "a"
   ]
  },
  {
   "cell_type": "code",
   "execution_count": 50,
   "metadata": {},
   "outputs": [
    {
     "data": {
      "application/vnd.jupyter.widget-view+json": {
       "model_id": "1f1f85de0cf54ac4aa278da9e452aad1",
       "version_major": 2,
       "version_minor": 0
      },
      "text/plain": [
       "HBox(children=(IntProgress(value=0, max=22), HTML(value='')))"
      ]
     },
     "metadata": {},
     "output_type": "display_data"
    },
    {
     "name": "stdout",
     "output_type": "stream",
     "text": [
      "180623_003\n",
      "180623_001\n",
      "180623_004\n",
      "180618_010\n",
      "180607_004\n",
      "180605_001\n",
      "180613_001\n",
      "180609_000\n",
      "180613_000\n",
      "180623_006\n",
      "180609_005\n",
      "180605_000\n",
      "180609_002\n",
      "180623_000\n",
      "180623_002\n",
      "180609_001\n",
      "180613_002\n",
      "180623_005\n",
      "180609_003\n",
      "180609_004\n",
      "180605_002\n",
      "180619_009\n"
     ]
    }
   ],
   "source": [
    "sessionDir = '/run/user/1000/gvfs/smb-share:server=locker-smb.engram.rc.zi.columbia.edu,share=sawtell_loco-locker,user=adcu%5Cel2983/obstacleData/sessions'\n",
    "saveDir = '/media/edwardli/Parsec/recurrent/sessions'\n",
    "\n",
    "for session in tqdm(a):\n",
    "    print(session)\n",
    "    if not os.path.exists(os.path.join(saveDir, session)):\n",
    "        os.makedirs(os.path.join(saveDir, session))\n",
    "    if not os.path.exists(os.path.join(saveDir, session, 'runBot.mp4')):\n",
    "        shutil.copyfile(os.path.join(sessionDir, session, 'runBot.mp4'), os.path.join(saveDir, session, 'runBot.mp4'))\n",
    "    if not os.path.exists(os.path.join(saveDir, session, 'runTop.mp4')):\n",
    "        shutil.copyfile(os.path.join(sessionDir, session, 'runTop.mp4'), os.path.join(saveDir, session, 'runTop.mp4'))"
   ]
  },
  {
   "cell_type": "code",
   "execution_count": 4,
   "metadata": {},
   "outputs": [],
   "source": [
    "mat = loadmat('recurrent/trainingDataDLC.mat')"
   ]
  },
  {
   "cell_type": "code",
   "execution_count": 27,
   "metadata": {},
   "outputs": [
    {
     "data": {
      "text/plain": [
       "True"
      ]
     },
     "execution_count": 27,
     "metadata": {},
     "output_type": "execute_result"
    }
   ],
   "source": [
    "np.isnan(mat['trainingData'][0][0][7][0][0])"
   ]
  },
  {
   "cell_type": "code",
   "execution_count": 29,
   "metadata": {},
   "outputs": [],
   "source": [
    "# Pickle with this https://pythonprogramming.net/python-pickle-module-save-objects-serialization/"
   ]
  },
  {
   "cell_type": "code",
   "execution_count": null,
   "metadata": {},
   "outputs": [],
   "source": []
  }
 ],
 "metadata": {
  "kernelspec": {
   "display_name": "Python 3",
   "language": "python",
   "name": "python3"
  },
  "language_info": {
   "codemirror_mode": {
    "name": "ipython",
    "version": 3
   },
   "file_extension": ".py",
   "mimetype": "text/x-python",
   "name": "python",
   "nbconvert_exporter": "python",
   "pygments_lexer": "ipython3",
   "version": "3.5.2"
  }
 },
 "nbformat": 4,
 "nbformat_minor": 2
}
